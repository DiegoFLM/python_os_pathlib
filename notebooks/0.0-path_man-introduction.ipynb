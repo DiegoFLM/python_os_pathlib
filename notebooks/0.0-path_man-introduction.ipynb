{
 "cells": [
  {
   "cell_type": "code",
   "execution_count": 2,
   "metadata": {},
   "outputs": [
    {
     "name": "stdout",
     "output_type": "stream",
     "text": [
      "/home/diegoflm/Documents/UV/courses_and_subjects/platzi/data_science/entorno_data_science/temp/path_man/notebooks\n"
     ]
    }
   ],
   "source": [
    "!pwd"
   ]
  },
  {
   "cell_type": "code",
   "execution_count": 5,
   "metadata": {},
   "outputs": [],
   "source": [
    "!cat ../data/raw/.gitkeep"
   ]
  },
  {
   "attachments": {},
   "cell_type": "markdown",
   "metadata": {},
   "source": [
    "# os library"
   ]
  },
  {
   "cell_type": "code",
   "execution_count": 6,
   "metadata": {},
   "outputs": [],
   "source": [
    "import os"
   ]
  },
  {
   "cell_type": "code",
   "execution_count": 13,
   "metadata": {},
   "outputs": [
    {
     "name": "stdout",
     "output_type": "stream",
     "text": [
      "/home/diegoflm/Documents/UV/courses_and_subjects/platzi/data_science/entorno_data_science/temp/path_man/notebooks\n"
     ]
    }
   ],
   "source": [
    "CURRENT_DIR = os.getcwd()\n",
    "print(CURRENT_DIR)"
   ]
  },
  {
   "cell_type": "code",
   "execution_count": 25,
   "metadata": {},
   "outputs": [
    {
     "name": "stdout",
     "output_type": "stream",
     "text": [
      "/home/diegoflm/Documents/UV/courses_and_subjects/platzi/data_science/entorno_data_science/temp/path_man/notebooks/../data\n"
     ]
    }
   ],
   "source": [
    "DATA_DIR_PATH = os.path.join(CURRENT_DIR, os.pardir, 'data')\n",
    "print(DATA_DIR_PATH)"
   ]
  },
  {
   "cell_type": "code",
   "execution_count": 26,
   "metadata": {},
   "outputs": [
    {
     "data": {
      "text/plain": [
       "True"
      ]
     },
     "execution_count": 26,
     "metadata": {},
     "output_type": "execute_result"
    }
   ],
   "source": [
    "os.path.exists(DATA_DIR_PATH)"
   ]
  },
  {
   "cell_type": "code",
   "execution_count": 28,
   "metadata": {},
   "outputs": [
    {
     "data": {
      "text/plain": [
       "True"
      ]
     },
     "execution_count": 28,
     "metadata": {},
     "output_type": "execute_result"
    }
   ],
   "source": [
    "os.path.isdir(DATA_DIR_PATH)"
   ]
  },
  {
   "cell_type": "code",
   "execution_count": 31,
   "metadata": {},
   "outputs": [
    {
     "data": {
      "text/plain": [
       "['processed', 'raw']"
      ]
     },
     "execution_count": 31,
     "metadata": {},
     "output_type": "execute_result"
    }
   ],
   "source": [
    "os.listdir(DATA_DIR_PATH)"
   ]
  },
  {
   "cell_type": "code",
   "execution_count": 35,
   "metadata": {},
   "outputs": [
    {
     "data": {
      "text/plain": [
       "['/home/diegoflm/Documents/UV/courses_and_subjects/platzi/data_science/entorno_data_science/temp/path_man/notebooks/../data/processed',\n",
       " '/home/diegoflm/Documents/UV/courses_and_subjects/platzi/data_science/entorno_data_science/temp/path_man/notebooks/../data/raw']"
      ]
     },
     "execution_count": 35,
     "metadata": {},
     "output_type": "execute_result"
    }
   ],
   "source": [
    "[os.path.join(DATA_DIR_PATH, item) for item in os.listdir(DATA_DIR_PATH)]"
   ]
  },
  {
   "cell_type": "code",
   "execution_count": 34,
   "metadata": {},
   "outputs": [
    {
     "name": "stdout",
     "output_type": "stream",
     "text": [
      "/home/diegoflm/Documents/UV/courses_and_subjects/platzi/data_science/entorno_data_science/temp/path_man/notebooks/../data\n",
      "['processed', 'raw']\n",
      "[]\n",
      "/home/diegoflm/Documents/UV/courses_and_subjects/platzi/data_science/entorno_data_science/temp/path_man/notebooks/../data/processed\n",
      "[]\n",
      "['.gitkeep']\n",
      "/home/diegoflm/Documents/UV/courses_and_subjects/platzi/data_science/entorno_data_science/temp/path_man/notebooks/../data/raw\n",
      "[]\n",
      "['.gitkeep']\n"
     ]
    }
   ],
   "source": [
    "# show both files and directories recursively\n",
    "for root, dirs, files in os.walk(DATA_DIR_PATH):\n",
    "    print(root)\n",
    "    print(dirs)\n",
    "    print(files)"
   ]
  },
  {
   "cell_type": "code",
   "execution_count": 36,
   "metadata": {},
   "outputs": [],
   "source": [
    "os.mkdir(os.path.join(DATA_DIR_PATH, 'shared'))"
   ]
  }
 ],
 "metadata": {
  "kernelspec": {
   "display_name": "path_man",
   "language": "python",
   "name": "python3"
  },
  "language_info": {
   "codemirror_mode": {
    "name": "ipython",
    "version": 3
   },
   "file_extension": ".py",
   "mimetype": "text/x-python",
   "name": "python",
   "nbconvert_exporter": "python",
   "pygments_lexer": "ipython3",
   "version": "3.10.9"
  },
  "orig_nbformat": 4
 },
 "nbformat": 4,
 "nbformat_minor": 2
}
